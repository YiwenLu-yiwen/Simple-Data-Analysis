{
 "cells": [
  {
   "cell_type": "code",
   "execution_count": 1,
   "metadata": {},
   "outputs": [],
   "source": [
    "import pandas as pd\n",
    "import numpy as np\n",
    "import matplotlib.pyplot as plt\n",
    "from scipy.stats import norm\n",
    "import scipy.stats\n",
    "import matplotlib.mlab as mlab"
   ]
  },
  {
   "cell_type": "code",
   "execution_count": 2,
   "metadata": {},
   "outputs": [],
   "source": [
    "data = pd.read_csv('Downloads/data20180918n.txt', sep=\",\")"
   ]
  },
  {
   "cell_type": "code",
   "execution_count": 3,
   "metadata": {},
   "outputs": [
    {
     "data": {
      "text/html": [
       "<div>\n",
       "<style scoped>\n",
       "    .dataframe tbody tr th:only-of-type {\n",
       "        vertical-align: middle;\n",
       "    }\n",
       "\n",
       "    .dataframe tbody tr th {\n",
       "        vertical-align: top;\n",
       "    }\n",
       "\n",
       "    .dataframe thead th {\n",
       "        text-align: right;\n",
       "    }\n",
       "</style>\n",
       "<table border=\"1\" class=\"dataframe\">\n",
       "  <thead>\n",
       "    <tr style=\"text-align: right;\">\n",
       "      <th></th>\n",
       "      <th>RTICIDNEW</th>\n",
       "      <th>LEN</th>\n",
       "      <th>FUNCLASS</th>\n",
       "      <th>UPDATE_TIME</th>\n",
       "      <th>SPEED</th>\n",
       "    </tr>\n",
       "  </thead>\n",
       "  <tbody>\n",
       "    <tr>\n",
       "      <th>0</th>\n",
       "      <td>46607520302</td>\n",
       "      <td>327.36906</td>\n",
       "      <td>4</td>\n",
       "      <td>201809180001</td>\n",
       "      <td>53.5090909090909</td>\n",
       "    </tr>\n",
       "    <tr>\n",
       "      <th>1</th>\n",
       "      <td>46607520302</td>\n",
       "      <td>327.36906</td>\n",
       "      <td>4</td>\n",
       "      <td>201809180002</td>\n",
       "      <td>56.0571428571429</td>\n",
       "    </tr>\n",
       "    <tr>\n",
       "      <th>2</th>\n",
       "      <td>46607520302</td>\n",
       "      <td>327.36906</td>\n",
       "      <td>4</td>\n",
       "      <td>201809180004</td>\n",
       "      <td>56.0571428571429</td>\n",
       "    </tr>\n",
       "    <tr>\n",
       "      <th>3</th>\n",
       "      <td>46607520302</td>\n",
       "      <td>327.36906</td>\n",
       "      <td>4</td>\n",
       "      <td>201809180005</td>\n",
       "      <td>56.0571428571429</td>\n",
       "    </tr>\n",
       "    <tr>\n",
       "      <th>4</th>\n",
       "      <td>46607520302</td>\n",
       "      <td>327.36906</td>\n",
       "      <td>4</td>\n",
       "      <td>201809180007</td>\n",
       "      <td>49.05</td>\n",
       "    </tr>\n",
       "  </tbody>\n",
       "</table>\n",
       "</div>"
      ],
      "text/plain": [
       "     RTICIDNEW        LEN  FUNCLASS   UPDATE_TIME             SPEED\n",
       "0  46607520302  327.36906         4  201809180001  53.5090909090909\n",
       "1  46607520302  327.36906         4  201809180002  56.0571428571429\n",
       "2  46607520302  327.36906         4  201809180004  56.0571428571429\n",
       "3  46607520302  327.36906         4  201809180005  56.0571428571429\n",
       "4  46607520302  327.36906         4  201809180007             49.05"
      ]
     },
     "execution_count": 3,
     "metadata": {},
     "output_type": "execute_result"
    }
   ],
   "source": [
    "data.head()"
   ]
  },
  {
   "cell_type": "markdown",
   "metadata": {},
   "source": [
    "## 数据清洗\n",
    "\n",
    "1. 检查 None value  \n",
    "2. 数据查重\n",
    "3. 数据标准化\n",
    "4. 数据错误检查"
   ]
  },
  {
   "cell_type": "code",
   "execution_count": 4,
   "metadata": {},
   "outputs": [
    {
     "data": {
      "text/html": [
       "<div>\n",
       "<style scoped>\n",
       "    .dataframe tbody tr th:only-of-type {\n",
       "        vertical-align: middle;\n",
       "    }\n",
       "\n",
       "    .dataframe tbody tr th {\n",
       "        vertical-align: top;\n",
       "    }\n",
       "\n",
       "    .dataframe thead th {\n",
       "        text-align: right;\n",
       "    }\n",
       "</style>\n",
       "<table border=\"1\" class=\"dataframe\">\n",
       "  <thead>\n",
       "    <tr style=\"text-align: right;\">\n",
       "      <th></th>\n",
       "      <th>RTICIDNEW</th>\n",
       "      <th>LEN</th>\n",
       "      <th>FUNCLASS</th>\n",
       "    </tr>\n",
       "  </thead>\n",
       "  <tbody>\n",
       "    <tr>\n",
       "      <th>count</th>\n",
       "      <td>1.268549e+06</td>\n",
       "      <td>1.268549e+06</td>\n",
       "      <td>1.268549e+06</td>\n",
       "    </tr>\n",
       "    <tr>\n",
       "      <th>mean</th>\n",
       "      <td>4.674437e+10</td>\n",
       "      <td>3.600805e+02</td>\n",
       "      <td>4.467695e+00</td>\n",
       "    </tr>\n",
       "    <tr>\n",
       "      <th>std</th>\n",
       "      <td>3.423383e+08</td>\n",
       "      <td>3.160043e+02</td>\n",
       "      <td>1.099981e+00</td>\n",
       "    </tr>\n",
       "    <tr>\n",
       "      <th>min</th>\n",
       "      <td>4.660742e+10</td>\n",
       "      <td>1.187399e+00</td>\n",
       "      <td>2.000000e+00</td>\n",
       "    </tr>\n",
       "    <tr>\n",
       "      <th>25%</th>\n",
       "      <td>4.660743e+10</td>\n",
       "      <td>1.306022e+02</td>\n",
       "      <td>4.000000e+00</td>\n",
       "    </tr>\n",
       "    <tr>\n",
       "      <th>50%</th>\n",
       "      <td>4.660747e+10</td>\n",
       "      <td>2.830025e+02</td>\n",
       "      <td>4.000000e+00</td>\n",
       "    </tr>\n",
       "    <tr>\n",
       "      <th>75%</th>\n",
       "      <td>4.660754e+10</td>\n",
       "      <td>4.950588e+02</td>\n",
       "      <td>5.000000e+00</td>\n",
       "    </tr>\n",
       "    <tr>\n",
       "      <th>max</th>\n",
       "      <td>4.760057e+10</td>\n",
       "      <td>2.092054e+03</td>\n",
       "      <td>7.000000e+00</td>\n",
       "    </tr>\n",
       "  </tbody>\n",
       "</table>\n",
       "</div>"
      ],
      "text/plain": [
       "          RTICIDNEW           LEN      FUNCLASS\n",
       "count  1.268549e+06  1.268549e+06  1.268549e+06\n",
       "mean   4.674437e+10  3.600805e+02  4.467695e+00\n",
       "std    3.423383e+08  3.160043e+02  1.099981e+00\n",
       "min    4.660742e+10  1.187399e+00  2.000000e+00\n",
       "25%    4.660743e+10  1.306022e+02  4.000000e+00\n",
       "50%    4.660747e+10  2.830025e+02  4.000000e+00\n",
       "75%    4.660754e+10  4.950588e+02  5.000000e+00\n",
       "max    4.760057e+10  2.092054e+03  7.000000e+00"
      ]
     },
     "execution_count": 4,
     "metadata": {},
     "output_type": "execute_result"
    }
   ],
   "source": [
    "data.describe()"
   ]
  },
  {
   "cell_type": "markdown",
   "metadata": {},
   "source": [
    "由于describe 没有speed 数据，说明UPDATE_TIME, SPEED 是str，进行标准化 SPEED 变成int"
   ]
  },
  {
   "cell_type": "code",
   "execution_count": 5,
   "metadata": {
    "scrolled": true
   },
   "outputs": [],
   "source": [
    "speed = []\n",
    "for each in data.SPEED:\n",
    "    try:\n",
    "        val = round(float(each), 2)\n",
    "    except:\n",
    "        val = np.nan\n",
    "    speed.append(val)\n",
    "data.SPEED = speed"
   ]
  },
  {
   "cell_type": "code",
   "execution_count": 6,
   "metadata": {},
   "outputs": [],
   "source": [
    "time = []\n",
    "for each in data.UPDATE_TIME:\n",
    "    try:\n",
    "        val = str(each)\n",
    "    except:\n",
    "        val = np.nan\n",
    "    time.append(val)\n",
    "data.UPDATE_TIME = time"
   ]
  },
  {
   "cell_type": "code",
   "execution_count": 7,
   "metadata": {
    "scrolled": true
   },
   "outputs": [
    {
     "name": "stdout",
     "output_type": "stream",
     "text": [
      "共有273行数据是空值\n",
      "空值百分比0.0215%\n"
     ]
    },
    {
     "data": {
      "text/html": [
       "<div>\n",
       "<style scoped>\n",
       "    .dataframe tbody tr th:only-of-type {\n",
       "        vertical-align: middle;\n",
       "    }\n",
       "\n",
       "    .dataframe tbody tr th {\n",
       "        vertical-align: top;\n",
       "    }\n",
       "\n",
       "    .dataframe thead th {\n",
       "        text-align: right;\n",
       "    }\n",
       "</style>\n",
       "<table border=\"1\" class=\"dataframe\">\n",
       "  <thead>\n",
       "    <tr style=\"text-align: right;\">\n",
       "      <th></th>\n",
       "      <th>RTICIDNEW</th>\n",
       "      <th>LEN</th>\n",
       "      <th>FUNCLASS</th>\n",
       "      <th>UPDATE_TIME</th>\n",
       "      <th>SPEED</th>\n",
       "    </tr>\n",
       "  </thead>\n",
       "  <tbody>\n",
       "    <tr>\n",
       "      <th>1774</th>\n",
       "      <td>47600561246</td>\n",
       "      <td>166.777730</td>\n",
       "      <td>6</td>\n",
       "      <td>\\N</td>\n",
       "      <td>NaN</td>\n",
       "    </tr>\n",
       "    <tr>\n",
       "      <th>1775</th>\n",
       "      <td>47600561493</td>\n",
       "      <td>566.345457</td>\n",
       "      <td>6</td>\n",
       "      <td>\\N</td>\n",
       "      <td>NaN</td>\n",
       "    </tr>\n",
       "    <tr>\n",
       "      <th>1776</th>\n",
       "      <td>47600561449</td>\n",
       "      <td>566.345457</td>\n",
       "      <td>6</td>\n",
       "      <td>\\N</td>\n",
       "      <td>NaN</td>\n",
       "    </tr>\n",
       "    <tr>\n",
       "      <th>1777</th>\n",
       "      <td>47600561337</td>\n",
       "      <td>166.777730</td>\n",
       "      <td>6</td>\n",
       "      <td>\\N</td>\n",
       "      <td>NaN</td>\n",
       "    </tr>\n",
       "    <tr>\n",
       "      <th>2573</th>\n",
       "      <td>46607550016</td>\n",
       "      <td>91.182013</td>\n",
       "      <td>4</td>\n",
       "      <td>\\N</td>\n",
       "      <td>NaN</td>\n",
       "    </tr>\n",
       "  </tbody>\n",
       "</table>\n",
       "</div>"
      ],
      "text/plain": [
       "        RTICIDNEW         LEN  FUNCLASS UPDATE_TIME  SPEED\n",
       "1774  47600561246  166.777730         6          \\N    NaN\n",
       "1775  47600561493  566.345457         6          \\N    NaN\n",
       "1776  47600561449  566.345457         6          \\N    NaN\n",
       "1777  47600561337  166.777730         6          \\N    NaN\n",
       "2573  46607550016   91.182013         4          \\N    NaN"
      ]
     },
     "execution_count": 7,
     "metadata": {},
     "output_type": "execute_result"
    }
   ],
   "source": [
    "df_na = data[data.isnull().any(axis=1)]\n",
    "rat = round(len(df_na)/len(data)*100,4)\n",
    "print(\"共有\" + str(len(df_na)) + \"行数据是空值\")\n",
    "print('空值百分比'+ str(rat) + \"%\")\n",
    "df_na.head()"
   ]
  },
  {
   "cell_type": "markdown",
   "metadata": {
    "scrolled": true
   },
   "source": [
    "由于空值百分比0.0215%, 可以直接舍去"
   ]
  },
  {
   "cell_type": "code",
   "execution_count": 8,
   "metadata": {},
   "outputs": [
    {
     "data": {
      "text/html": [
       "<div>\n",
       "<style scoped>\n",
       "    .dataframe tbody tr th:only-of-type {\n",
       "        vertical-align: middle;\n",
       "    }\n",
       "\n",
       "    .dataframe tbody tr th {\n",
       "        vertical-align: top;\n",
       "    }\n",
       "\n",
       "    .dataframe thead th {\n",
       "        text-align: right;\n",
       "    }\n",
       "</style>\n",
       "<table border=\"1\" class=\"dataframe\">\n",
       "  <thead>\n",
       "    <tr style=\"text-align: right;\">\n",
       "      <th></th>\n",
       "      <th>RTICIDNEW</th>\n",
       "      <th>LEN</th>\n",
       "      <th>FUNCLASS</th>\n",
       "      <th>UPDATE_TIME</th>\n",
       "      <th>SPEED</th>\n",
       "    </tr>\n",
       "  </thead>\n",
       "  <tbody>\n",
       "  </tbody>\n",
       "</table>\n",
       "</div>"
      ],
      "text/plain": [
       "Empty DataFrame\n",
       "Columns: [RTICIDNEW, LEN, FUNCLASS, UPDATE_TIME, SPEED]\n",
       "Index: []"
      ]
     },
     "execution_count": 8,
     "metadata": {},
     "output_type": "execute_result"
    }
   ],
   "source": [
    "data = data.dropna()\n",
    "data = data.reset_index(drop = True)\n",
    "data[data.isnull().any(axis=1)]"
   ]
  },
  {
   "cell_type": "code",
   "execution_count": 9,
   "metadata": {},
   "outputs": [
    {
     "data": {
      "text/html": [
       "<div>\n",
       "<style scoped>\n",
       "    .dataframe tbody tr th:only-of-type {\n",
       "        vertical-align: middle;\n",
       "    }\n",
       "\n",
       "    .dataframe tbody tr th {\n",
       "        vertical-align: top;\n",
       "    }\n",
       "\n",
       "    .dataframe thead th {\n",
       "        text-align: right;\n",
       "    }\n",
       "</style>\n",
       "<table border=\"1\" class=\"dataframe\">\n",
       "  <thead>\n",
       "    <tr style=\"text-align: right;\">\n",
       "      <th></th>\n",
       "      <th>RTICIDNEW</th>\n",
       "      <th>LEN</th>\n",
       "      <th>FUNCLASS</th>\n",
       "      <th>SPEED</th>\n",
       "    </tr>\n",
       "  </thead>\n",
       "  <tbody>\n",
       "    <tr>\n",
       "      <th>count</th>\n",
       "      <td>1.268276e+06</td>\n",
       "      <td>1.268276e+06</td>\n",
       "      <td>1.268276e+06</td>\n",
       "      <td>1.268276e+06</td>\n",
       "    </tr>\n",
       "    <tr>\n",
       "      <th>mean</th>\n",
       "      <td>4.674433e+10</td>\n",
       "      <td>3.601079e+02</td>\n",
       "      <td>4.467490e+00</td>\n",
       "      <td>3.947367e+01</td>\n",
       "    </tr>\n",
       "    <tr>\n",
       "      <th>std</th>\n",
       "      <td>3.422977e+08</td>\n",
       "      <td>3.160071e+02</td>\n",
       "      <td>1.099915e+00</td>\n",
       "      <td>1.483424e+01</td>\n",
       "    </tr>\n",
       "    <tr>\n",
       "      <th>min</th>\n",
       "      <td>4.660742e+10</td>\n",
       "      <td>1.187399e+00</td>\n",
       "      <td>2.000000e+00</td>\n",
       "      <td>1.500000e+00</td>\n",
       "    </tr>\n",
       "    <tr>\n",
       "      <th>25%</th>\n",
       "      <td>4.660743e+10</td>\n",
       "      <td>1.306022e+02</td>\n",
       "      <td>4.000000e+00</td>\n",
       "      <td>2.880000e+01</td>\n",
       "    </tr>\n",
       "    <tr>\n",
       "      <th>50%</th>\n",
       "      <td>4.660747e+10</td>\n",
       "      <td>2.830025e+02</td>\n",
       "      <td>4.000000e+00</td>\n",
       "      <td>3.658000e+01</td>\n",
       "    </tr>\n",
       "    <tr>\n",
       "      <th>75%</th>\n",
       "      <td>4.660754e+10</td>\n",
       "      <td>4.950588e+02</td>\n",
       "      <td>5.000000e+00</td>\n",
       "      <td>4.942000e+01</td>\n",
       "    </tr>\n",
       "    <tr>\n",
       "      <th>max</th>\n",
       "      <td>4.760057e+10</td>\n",
       "      <td>2.092054e+03</td>\n",
       "      <td>7.000000e+00</td>\n",
       "      <td>1.224000e+02</td>\n",
       "    </tr>\n",
       "  </tbody>\n",
       "</table>\n",
       "</div>"
      ],
      "text/plain": [
       "          RTICIDNEW           LEN      FUNCLASS         SPEED\n",
       "count  1.268276e+06  1.268276e+06  1.268276e+06  1.268276e+06\n",
       "mean   4.674433e+10  3.601079e+02  4.467490e+00  3.947367e+01\n",
       "std    3.422977e+08  3.160071e+02  1.099915e+00  1.483424e+01\n",
       "min    4.660742e+10  1.187399e+00  2.000000e+00  1.500000e+00\n",
       "25%    4.660743e+10  1.306022e+02  4.000000e+00  2.880000e+01\n",
       "50%    4.660747e+10  2.830025e+02  4.000000e+00  3.658000e+01\n",
       "75%    4.660754e+10  4.950588e+02  5.000000e+00  4.942000e+01\n",
       "max    4.760057e+10  2.092054e+03  7.000000e+00  1.224000e+02"
      ]
     },
     "execution_count": 9,
     "metadata": {},
     "output_type": "execute_result"
    }
   ],
   "source": [
    "data.describe()"
   ]
  },
  {
   "cell_type": "code",
   "execution_count": 10,
   "metadata": {
    "scrolled": true
   },
   "outputs": [
    {
     "name": "stdout",
     "output_type": "stream",
     "text": [
      "该份报告包含以下时间范围:  201809180001 到 201809182358\n"
     ]
    }
   ],
   "source": [
    "## 检查时间范围\n",
    "time_rang = [each for each in data.UPDATE_TIME]\n",
    "min_time = min(time_rang)\n",
    "max_time = max(time_rang)\n",
    "#time_rang = ','.join(time_rang)\n",
    "print(\"该份报告包含以下时间范围: \", min_time, \"到\",  max_time)"
   ]
  },
  {
   "cell_type": "code",
   "execution_count": 11,
   "metadata": {},
   "outputs": [
    {
     "name": "stdout",
     "output_type": "stream",
     "text": [
      "该份报告包含以下错误时间:  \n"
     ]
    }
   ],
   "source": [
    "## 检查异常值,是否有大于 59 分的数据出现\n",
    "error_time = [each for each in data.UPDATE_TIME if int(each[-2:]) > 59 or int(each[-4:-2]) > 23]\n",
    "error_time = ','.join(error_time)\n",
    "print(\"该份报告包含以下错误时间: \", error_time)"
   ]
  },
  {
   "cell_type": "markdown",
   "metadata": {},
   "source": [
    "该份报告时间从 2018/09/18/00:01 到 2018/09/18/23:58"
   ]
  },
  {
   "cell_type": "code",
   "execution_count": 12,
   "metadata": {},
   "outputs": [
    {
     "data": {
      "text/html": [
       "<div>\n",
       "<style scoped>\n",
       "    .dataframe tbody tr th:only-of-type {\n",
       "        vertical-align: middle;\n",
       "    }\n",
       "\n",
       "    .dataframe tbody tr th {\n",
       "        vertical-align: top;\n",
       "    }\n",
       "\n",
       "    .dataframe thead th {\n",
       "        text-align: right;\n",
       "    }\n",
       "</style>\n",
       "<table border=\"1\" class=\"dataframe\">\n",
       "  <thead>\n",
       "    <tr style=\"text-align: right;\">\n",
       "      <th></th>\n",
       "      <th>RTICIDNEW</th>\n",
       "      <th>LEN</th>\n",
       "      <th>FUNCLASS</th>\n",
       "      <th>UPDATE_TIME</th>\n",
       "      <th>SPEED</th>\n",
       "    </tr>\n",
       "  </thead>\n",
       "  <tbody>\n",
       "    <tr>\n",
       "      <th>0</th>\n",
       "      <td>46607520302</td>\n",
       "      <td>327.36906</td>\n",
       "      <td>4</td>\n",
       "      <td>201809180001</td>\n",
       "      <td>53.51</td>\n",
       "    </tr>\n",
       "    <tr>\n",
       "      <th>1</th>\n",
       "      <td>46607520302</td>\n",
       "      <td>327.36906</td>\n",
       "      <td>4</td>\n",
       "      <td>201809180002</td>\n",
       "      <td>56.06</td>\n",
       "    </tr>\n",
       "    <tr>\n",
       "      <th>2</th>\n",
       "      <td>46607520302</td>\n",
       "      <td>327.36906</td>\n",
       "      <td>4</td>\n",
       "      <td>201809180004</td>\n",
       "      <td>56.06</td>\n",
       "    </tr>\n",
       "    <tr>\n",
       "      <th>3</th>\n",
       "      <td>46607520302</td>\n",
       "      <td>327.36906</td>\n",
       "      <td>4</td>\n",
       "      <td>201809180005</td>\n",
       "      <td>56.06</td>\n",
       "    </tr>\n",
       "    <tr>\n",
       "      <th>4</th>\n",
       "      <td>46607520302</td>\n",
       "      <td>327.36906</td>\n",
       "      <td>4</td>\n",
       "      <td>201809180007</td>\n",
       "      <td>49.05</td>\n",
       "    </tr>\n",
       "  </tbody>\n",
       "</table>\n",
       "</div>"
      ],
      "text/plain": [
       "     RTICIDNEW        LEN  FUNCLASS   UPDATE_TIME  SPEED\n",
       "0  46607520302  327.36906         4  201809180001  53.51\n",
       "1  46607520302  327.36906         4  201809180002  56.06\n",
       "2  46607520302  327.36906         4  201809180004  56.06\n",
       "3  46607520302  327.36906         4  201809180005  56.06\n",
       "4  46607520302  327.36906         4  201809180007  49.05"
      ]
     },
     "execution_count": 12,
     "metadata": {},
     "output_type": "execute_result"
    }
   ],
   "source": [
    "data.head()"
   ]
  },
  {
   "cell_type": "code",
   "execution_count": 13,
   "metadata": {},
   "outputs": [
    {
     "data": {
      "text/plain": [
       "(1653, 1548)"
      ]
     },
     "execution_count": 13,
     "metadata": {},
     "output_type": "execute_result"
    }
   ],
   "source": [
    "len(data.RTICIDNEW.unique()), len(data.LEN.unique()) # 路程种类和路段种类不匹配，可能存在错误"
   ]
  },
  {
   "cell_type": "code",
   "execution_count": 14,
   "metadata": {},
   "outputs": [],
   "source": [
    "# 检查相同路段不同路程，或者相同路程，路段编号不同\n",
    "diff = [(data.RTICIDNEW[i+1],data.LEN[i+1]) for i in range(len(data)-1) if data.RTICIDNEW[i+1] != data.RTICIDNEW[i] or\\\n",
    " data.LEN[i+1] != data.LEN[i]]"
   ]
  },
  {
   "cell_type": "code",
   "execution_count": 15,
   "metadata": {},
   "outputs": [
    {
     "data": {
      "text/plain": [
       "1732"
      ]
     },
     "execution_count": 15,
     "metadata": {},
     "output_type": "execute_result"
    }
   ],
   "source": [
    "len(diff)"
   ]
  },
  {
   "cell_type": "code",
   "execution_count": 16,
   "metadata": {
    "scrolled": true
   },
   "outputs": [
    {
     "name": "stdout",
     "output_type": "stream",
     "text": [
      "相同车道列表如下:\n"
     ]
    },
    {
     "data": {
      "text/plain": [
       "[((46607561891, 45.413881565112106), (46607561859, 45.413881565112106)),\n",
       " ((46607540862, 42.7264680039657), (46607540863, 42.7264680039657)),\n",
       " ((47600560604, 22.957282787653604), (47600561005, 22.957282787653604)),\n",
       " ((47600560603, 107.391259862852), (47600561003, 107.391259862852)),\n",
       " ((47600570035, 652.011771210752), (47600570010, 652.011771210752)),\n",
       " ((46607460269, 11.107664934790401), (46607460978, 11.107664934790401)),\n",
       " ((46607561039, 198.268536817261), (46607560467, 198.268536817261)),\n",
       " ((46607460273, 35.8543979930116), (46607460986, 35.8543979930116)),\n",
       " ((46607570033, 86.80321047677342), (46607570096, 86.80321047677342)),\n",
       " ((46607460774, 318.76261325852903), (46607461385, 318.76261325852903)),\n",
       " ((46607540310, 674.008050047304), (46607540315, 674.008050047304)),\n",
       " ((46607460334, 202.93319083994098), (46607461044, 202.93319083994098)),\n",
       " ((46607540693, 555.038464667859), (46607540696, 555.038464667859)),\n",
       " ((46607570205, 279.910352507745), (46607570213, 279.910352507745)),\n",
       " ((46607440316, 388.95954070470594), (46607440315, 388.95954070470594)),\n",
       " ((46607561758, 92.3434551092513), (46607561749, 92.3434551092513)),\n",
       " ((46607440400, 407.621094132218), (46607440399, 407.621094132218)),\n",
       " ((46607470269, 260.022446821126), (46607470243, 260.022446821126)),\n",
       " ((46607570092, 81.55250529524609), (46607570030, 81.55250529524609)),\n",
       " ((46607561198, 171.43607375472), (46607560703, 171.43607375472)),\n",
       " ((46607460768, 17.7338566667238), (46607461713, 17.7338566667238)),\n",
       " ((46607440333, 566.404777606251), (46607440332, 566.404777606251)),\n",
       " ((46607461076, 29.7443169621592), (46607460394, 29.7443169621592)),\n",
       " ((46607470215, 184.420244521093), (46607470204, 184.420244521093)),\n",
       " ((46607561099, 110.271059718271), (46607560555, 110.271059718271)),\n",
       " ((46607440378, 325.406965459296), (46607440377, 325.406965459296)),\n",
       " ((47600461255, 292.55776931876204), (47600460512, 292.55776931876204)),\n",
       " ((46607460658, 27.2310406562846), (46607461292, 27.2310406562846)),\n",
       " ((46607461844, 317.55623166963), (46607461741, 317.55623166963)),\n",
       " ((46607561761, 84.9687638891668), (46607561752, 84.9687638891668)),\n",
       " ((46607461336, 147.413854980375), (46607460710, 147.413854980375)),\n",
       " ((46607540122, 467.33000576075995), (46607540132, 467.33000576075995)),\n",
       " ((46607560134, 79.1384827874581), (46607560889, 79.1384827874581)),\n",
       " ((46607540334, 667.827846029807), (46607540347, 667.827846029807)),\n",
       " ((46607462271, 157.02994811741502), (46607462341, 157.02994811741502)),\n",
       " ((46607560957, 453.537762225462), (46607560301, 453.537762225462)),\n",
       " ((46607461039, 18.8660912709053), (46607460207, 18.8660912709053)),\n",
       " ((46607440389, 104.15924795349599), (46607440390, 104.15924795349599)),\n",
       " ((46607560882, 295.463871014859), (46607560129, 295.463871014859)),\n",
       " ((46607460705, 116.618054924072), (46607461331, 116.618054924072)),\n",
       " ((46607460877, 303.80082797755404), (46607460112, 303.80082797755404)),\n",
       " ((46607540420, 79.257886518254), (46607540419, 79.257886518254)),\n",
       " ((46607440330, 556.053955408737), (46607440327, 556.053955408737)),\n",
       " ((46607461049, 120.172779898214), (46607460339, 120.172779898214)),\n",
       " ((47600462486, 184.909114335634), (47600462560, 184.909114335634)),\n",
       " ((46607570007, 205.83334993291), (46607570085, 205.83334993291)),\n",
       " ((46607460113, 635.9505492771469), (46607460878, 635.9505492771469)),\n",
       " ((46607561861, 295.185215308755), (46607561818, 295.185215308755)),\n",
       " ((46607540405, 396.09980203996804), (46607540406, 396.09980203996804)),\n",
       " ((46607440353, 308.55659011608896), (46607440360, 308.55659011608896)),\n",
       " ((46607570027, 264.121950824375), (46607570094, 264.121950824375)),\n",
       " ((46607540701, 295.189306354033), (46607540702, 295.189306354033)),\n",
       " ((46607561014, 45.19620187936461), (46607560434, 45.19620187936461)),\n",
       " ((46607460115, 617.085688589807), (46607460880, 617.085688589807)),\n",
       " ((46607570091, 90.0654121521113), (46607570031, 90.0654121521113)),\n",
       " ((46607440631, 399.021139845388), (46607440632, 399.021139845388)),\n",
       " ((46607460704, 131.503178992977), (46607461330, 131.503178992977)),\n",
       " ((46607462267, 287.125485090571), (46607462338, 287.125485090571)),\n",
       " ((46607470122, 88.5203379883374), (46607470022, 88.5203379883374)),\n",
       " ((46607570169, 113.32472013546001), (46607570150, 113.32472013546001)),\n",
       " ((46607440683, 457.914213896995), (46607440575, 457.914213896995)),\n",
       " ((46607460885, 272.137772185467), (46607460119, 272.137772185467)),\n",
       " ((46607561809, 44.9334044808311), (46607561789, 44.9334044808311)),\n",
       " ((46607470191, 104.799642279349), (46607470210, 104.799642279349)),\n",
       " ((46607461153, 155.862962866404), (46607460486, 155.862962866404)),\n",
       " ((46607560922, 106.405849475871), (46607560235, 106.405849475871)),\n",
       " ((46607460657, 60.08584573266889), (46607461290, 60.08584573266889)),\n",
       " ((46607561774, 17.8608191803166), (46607561802, 17.8608191803166)),\n",
       " ((46607470217, 86.93177038025921), (46607470206, 86.93177038025921)),\n",
       " ((46607561631, 177.596735358218), (46607561530, 177.596735358218)),\n",
       " ((46607540707, 669.665549504944), (46607540708, 669.665549504944)),\n",
       " ((46607461832, 79.3264291074357), (46607461729, 79.3264291074357)),\n",
       " ((46607440630, 678.383591028572), (46607440633, 678.383591028572)),\n",
       " ((46607540929, 999.7415610926421), (46607540930, 999.7415610926421)),\n",
       " ((46607561751, 203.85303030996602), (46607561760, 203.85303030996602)),\n",
       " ((46607540418, 209.694283416332), (46607540417, 209.694283416332)),\n",
       " ((46607470275, 152.166039651978), (46607470286, 152.166039651978)),\n",
       " ((46607461480, 70.1811356448925), (46607461645, 70.1811356448925)),\n",
       " ((46607460269, 187.72333879649798), (46607460978, 187.72333879649798)),\n",
       " ((46607462142, 23.780231328530196), (46607462177, 23.780231328530196)),\n",
       " ((46607460641, 138.844397901051), (46607461274, 138.844397901051)),\n",
       " ((46607460180, 438.88991428415), (46607460926, 438.88991428415)),\n",
       " ((46607460273, 91.56498628623991), (46607460986, 91.56498628623991)),\n",
       " ((46607460424, 447.049823708474), (46607461094, 447.049823708474)),\n",
       " ((46607461093, 141.285743863282), (46607460421, 141.285743863282)),\n",
       " ((46607462175, 7.99577502844929), (46607462141, 7.99577502844929))]"
      ]
     },
     "execution_count": 16,
     "metadata": {},
     "output_type": "execute_result"
    }
   ],
   "source": [
    "# 如果道路长度一致，说明同一条道路，考虑到正反车道可能，一条道路的车速不\n",
    "\n",
    "sam_rd = []\n",
    "for i in range(len(diff)-1):\n",
    "    if diff[i+1][0] == diff[i][0] or diff[i+1][1] == diff[i][1]:\n",
    "        sam_rd.append((diff[i+1], diff[i]))\n",
    "print('相同车道列表如下:')\n",
    "sam_rd"
   ]
  },
  {
   "cell_type": "code",
   "execution_count": 17,
   "metadata": {
    "scrolled": true
   },
   "outputs": [
    {
     "name": "stdout",
     "output_type": "stream",
     "text": [
      "完全相同的路段: \n",
      "[]\n"
     ]
    }
   ],
   "source": [
    "road_same = []\n",
    "for each in sam_rd:\n",
    "    df_r1 = data[data.RTICIDNEW == each[0][0]].reset_index(drop = True)\n",
    "    df_r2 = data[data.RTICIDNEW == each[1][0]].reset_index(drop = True)\n",
    "    if len(df_r1) == len(df_r2):\n",
    "        if df_r1[['LEN', 'FUNCLASS', 'UPDATE_TIME', 'SPEED']] == df_r2[['LEN', 'FUNCLASS', 'UPDATE_TIME', 'SPEED']]:\n",
    "            road_same.append(each[0])\n",
    "print('完全相同的路段: ')\n",
    "print(road_same)"
   ]
  },
  {
   "cell_type": "code",
   "execution_count": 14,
   "metadata": {},
   "outputs": [
    {
     "data": {
      "text/plain": [
       "<matplotlib.axes._subplots.AxesSubplot at 0x7fa699411828>"
      ]
     },
     "execution_count": 14,
     "metadata": {},
     "output_type": "execute_result"
    },
    {
     "data": {
      "image/png": "[encoded data removed]",
      "text/plain": [
       "<Figure size 432x288 with 1 Axes>"
      ]
     },
     "metadata": {
      "needs_background": "light"
     },
     "output_type": "display_data"
    }
   ],
   "source": [
    "# boxplot 去分析是否存在个别错误数据\n",
    "data.boxplot(column=['FUNCLASS', 'SPEED'])# 可以看到速度最高过了120，可能存在错误或超速情况"
   ]
  },
  {
   "cell_type": "code",
   "execution_count": 15,
   "metadata": {},
   "outputs": [
    {
     "data": {
      "text/html": [
       "<div>\n",
       "<style scoped>\n",
       "    .dataframe tbody tr th:only-of-type {\n",
       "        vertical-align: middle;\n",
       "    }\n",
       "\n",
       "    .dataframe tbody tr th {\n",
       "        vertical-align: top;\n",
       "    }\n",
       "\n",
       "    .dataframe thead th {\n",
       "        text-align: right;\n",
       "    }\n",
       "</style>\n",
       "<table border=\"1\" class=\"dataframe\">\n",
       "  <thead>\n",
       "    <tr style=\"text-align: right;\">\n",
       "      <th></th>\n",
       "      <th>RTICIDNEW</th>\n",
       "      <th>LEN</th>\n",
       "      <th>FUNCLASS</th>\n",
       "      <th>UPDATE_TIME</th>\n",
       "      <th>SPEED</th>\n",
       "    </tr>\n",
       "  </thead>\n",
       "  <tbody>\n",
       "    <tr>\n",
       "      <th>320363</th>\n",
       "      <td>46607430295</td>\n",
       "      <td>133.111974</td>\n",
       "      <td>5</td>\n",
       "      <td>201809180249</td>\n",
       "      <td>121.5</td>\n",
       "    </tr>\n",
       "    <tr>\n",
       "      <th>320364</th>\n",
       "      <td>46607430295</td>\n",
       "      <td>133.111974</td>\n",
       "      <td>5</td>\n",
       "      <td>201809180250</td>\n",
       "      <td>121.5</td>\n",
       "    </tr>\n",
       "    <tr>\n",
       "      <th>320365</th>\n",
       "      <td>46607430295</td>\n",
       "      <td>133.111974</td>\n",
       "      <td>5</td>\n",
       "      <td>201809180252</td>\n",
       "      <td>121.5</td>\n",
       "    </tr>\n",
       "    <tr>\n",
       "      <th>320366</th>\n",
       "      <td>46607430295</td>\n",
       "      <td>133.111974</td>\n",
       "      <td>5</td>\n",
       "      <td>201809180253</td>\n",
       "      <td>121.5</td>\n",
       "    </tr>\n",
       "    <tr>\n",
       "      <th>320367</th>\n",
       "      <td>46607430295</td>\n",
       "      <td>133.111974</td>\n",
       "      <td>5</td>\n",
       "      <td>201809180255</td>\n",
       "      <td>121.5</td>\n",
       "    </tr>\n",
       "    <tr>\n",
       "      <th>320368</th>\n",
       "      <td>46607430295</td>\n",
       "      <td>133.111974</td>\n",
       "      <td>5</td>\n",
       "      <td>201809180256</td>\n",
       "      <td>121.5</td>\n",
       "    </tr>\n",
       "    <tr>\n",
       "      <th>320369</th>\n",
       "      <td>46607430295</td>\n",
       "      <td>133.111974</td>\n",
       "      <td>5</td>\n",
       "      <td>201809180258</td>\n",
       "      <td>121.5</td>\n",
       "    </tr>\n",
       "    <tr>\n",
       "      <th>320370</th>\n",
       "      <td>46607430295</td>\n",
       "      <td>133.111974</td>\n",
       "      <td>5</td>\n",
       "      <td>201809180259</td>\n",
       "      <td>121.5</td>\n",
       "    </tr>\n",
       "    <tr>\n",
       "      <th>320371</th>\n",
       "      <td>46607430295</td>\n",
       "      <td>133.111974</td>\n",
       "      <td>5</td>\n",
       "      <td>201809180301</td>\n",
       "      <td>121.5</td>\n",
       "    </tr>\n",
       "    <tr>\n",
       "      <th>393831</th>\n",
       "      <td>46607520280</td>\n",
       "      <td>13.562929</td>\n",
       "      <td>3</td>\n",
       "      <td>201809180713</td>\n",
       "      <td>122.4</td>\n",
       "    </tr>\n",
       "    <tr>\n",
       "      <th>393832</th>\n",
       "      <td>46607520280</td>\n",
       "      <td>13.562929</td>\n",
       "      <td>3</td>\n",
       "      <td>201809180714</td>\n",
       "      <td>122.4</td>\n",
       "    </tr>\n",
       "    <tr>\n",
       "      <th>393833</th>\n",
       "      <td>46607520280</td>\n",
       "      <td>13.562929</td>\n",
       "      <td>3</td>\n",
       "      <td>201809180716</td>\n",
       "      <td>122.4</td>\n",
       "    </tr>\n",
       "    <tr>\n",
       "      <th>393834</th>\n",
       "      <td>46607520280</td>\n",
       "      <td>13.562929</td>\n",
       "      <td>3</td>\n",
       "      <td>201809180717</td>\n",
       "      <td>122.4</td>\n",
       "    </tr>\n",
       "    <tr>\n",
       "      <th>926501</th>\n",
       "      <td>46607460132</td>\n",
       "      <td>34.030343</td>\n",
       "      <td>5</td>\n",
       "      <td>201809181507</td>\n",
       "      <td>122.4</td>\n",
       "    </tr>\n",
       "    <tr>\n",
       "      <th>926502</th>\n",
       "      <td>46607460132</td>\n",
       "      <td>34.030343</td>\n",
       "      <td>5</td>\n",
       "      <td>201809181508</td>\n",
       "      <td>122.4</td>\n",
       "    </tr>\n",
       "    <tr>\n",
       "      <th>926503</th>\n",
       "      <td>46607460132</td>\n",
       "      <td>34.030343</td>\n",
       "      <td>5</td>\n",
       "      <td>201809181510</td>\n",
       "      <td>122.4</td>\n",
       "    </tr>\n",
       "    <tr>\n",
       "      <th>926504</th>\n",
       "      <td>46607460132</td>\n",
       "      <td>34.030343</td>\n",
       "      <td>5</td>\n",
       "      <td>201809181511</td>\n",
       "      <td>122.4</td>\n",
       "    </tr>\n",
       "    <tr>\n",
       "      <th>926505</th>\n",
       "      <td>46607460132</td>\n",
       "      <td>34.030343</td>\n",
       "      <td>5</td>\n",
       "      <td>201809181513</td>\n",
       "      <td>122.4</td>\n",
       "    </tr>\n",
       "    <tr>\n",
       "      <th>926506</th>\n",
       "      <td>46607460132</td>\n",
       "      <td>34.030343</td>\n",
       "      <td>5</td>\n",
       "      <td>201809181514</td>\n",
       "      <td>122.4</td>\n",
       "    </tr>\n",
       "    <tr>\n",
       "      <th>926507</th>\n",
       "      <td>46607460132</td>\n",
       "      <td>34.030343</td>\n",
       "      <td>5</td>\n",
       "      <td>201809181516</td>\n",
       "      <td>122.4</td>\n",
       "    </tr>\n",
       "    <tr>\n",
       "      <th>926508</th>\n",
       "      <td>46607460132</td>\n",
       "      <td>34.030343</td>\n",
       "      <td>5</td>\n",
       "      <td>201809181517</td>\n",
       "      <td>122.4</td>\n",
       "    </tr>\n",
       "    <tr>\n",
       "      <th>926509</th>\n",
       "      <td>46607460132</td>\n",
       "      <td>34.030343</td>\n",
       "      <td>5</td>\n",
       "      <td>201809181519</td>\n",
       "      <td>122.4</td>\n",
       "    </tr>\n",
       "    <tr>\n",
       "      <th>926589</th>\n",
       "      <td>46607460132</td>\n",
       "      <td>34.030343</td>\n",
       "      <td>5</td>\n",
       "      <td>201809181908</td>\n",
       "      <td>122.4</td>\n",
       "    </tr>\n",
       "  </tbody>\n",
       "</table>\n",
       "</div>"
      ],
      "text/plain": [
       "          RTICIDNEW         LEN  FUNCLASS   UPDATE_TIME  SPEED\n",
       "320363  46607430295  133.111974         5  201809180249  121.5\n",
       "320364  46607430295  133.111974         5  201809180250  121.5\n",
       "320365  46607430295  133.111974         5  201809180252  121.5\n",
       "320366  46607430295  133.111974         5  201809180253  121.5\n",
       "320367  46607430295  133.111974         5  201809180255  121.5\n",
       "320368  46607430295  133.111974         5  201809180256  121.5\n",
       "320369  46607430295  133.111974         5  201809180258  121.5\n",
       "320370  46607430295  133.111974         5  201809180259  121.5\n",
       "320371  46607430295  133.111974         5  201809180301  121.5\n",
       "393831  46607520280   13.562929         3  201809180713  122.4\n",
       "393832  46607520280   13.562929         3  201809180714  122.4\n",
       "393833  46607520280   13.562929         3  201809180716  122.4\n",
       "393834  46607520280   13.562929         3  201809180717  122.4\n",
       "926501  46607460132   34.030343         5  201809181507  122.4\n",
       "926502  46607460132   34.030343         5  201809181508  122.4\n",
       "926503  46607460132   34.030343         5  201809181510  122.4\n",
       "926504  46607460132   34.030343         5  201809181511  122.4\n",
       "926505  46607460132   34.030343         5  201809181513  122.4\n",
       "926506  46607460132   34.030343         5  201809181514  122.4\n",
       "926507  46607460132   34.030343         5  201809181516  122.4\n",
       "926508  46607460132   34.030343         5  201809181517  122.4\n",
       "926509  46607460132   34.030343         5  201809181519  122.4\n",
       "926589  46607460132   34.030343         5  201809181908  122.4"
      ]
     },
     "execution_count": 15,
     "metadata": {},
     "output_type": "execute_result"
    }
   ],
   "source": [
    "data[data.SPEED >= 120] # 属于合理范围"
   ]
  },
  {
   "cell_type": "code",
   "execution_count": 16,
   "metadata": {},
   "outputs": [
    {
     "data": {
      "text/plain": [
       "<matplotlib.axes._subplots.AxesSubplot at 0x7fa69949f780>"
      ]
     },
     "execution_count": 16,
     "metadata": {},
     "output_type": "execute_result"
    },
    {
     "data": {
      "image/png": "[encoded data removed]",
      "text/plain": [
       "<Figure size 432x288 with 1 Axes>"
      ]
     },
     "metadata": {
      "needs_background": "light"
     },
     "output_type": "display_data"
    }
   ],
   "source": [
    "data.boxplot(column=['FUNCLASS']) # funclass 从2-7 属于合理范围，尽管他们并不是数据的正常值"
   ]
  },
  {
   "cell_type": "code",
   "execution_count": 17,
   "metadata": {},
   "outputs": [],
   "source": [
    "# 由于我们知道 data和 RTICIDNEW 关系不大，删了\n",
    "data = data[['LEN', 'FUNCLASS', 'UPDATE_TIME', 'SPEED']]"
   ]
  },
  {
   "cell_type": "code",
   "execution_count": 23,
   "metadata": {},
   "outputs": [
    {
     "name": "stderr",
     "output_type": "stream",
     "text": [
      "/Users/wilson/anaconda3/lib/python3.7/site-packages/ipykernel_launcher.py:13: MatplotlibDeprecationWarning: \n",
      "The 'normed' kwarg was deprecated in Matplotlib 2.1 and will be removed in 3.1. Use 'density' instead.\n",
      "  del sys.path[0]\n"
     ]
    },
    {
     "data": {
      "image/png": "[encoded data removed]",
      "text/plain": [
       "<Figure size 432x288 with 1 Axes>"
      ]
     },
     "metadata": {
      "needs_background": "light"
     },
     "output_type": "display_data"
    }
   ],
   "source": [
    "# 分析全天速度分布是否遵从正态分布\n",
    "from scipy.stats import norm\n",
    "import matplotlib.mlab as mlab\n",
    "import matplotlib.pyplot as plt\n",
    "\n",
    "# read data from a text file. One number per line\n",
    "datos = list(data.SPEED)\n",
    "\n",
    "# best fit of data\n",
    "(mu, sigma) = norm.fit(datos)\n",
    "\n",
    "# the histogram of the data\n",
    "n, bins, patches = plt.hist(datos, 60, normed=1, facecolor='green', alpha=0.75)\n",
    "\n",
    "# add a 'best fit' line\n",
    "y = scipy.stats.norm.pdf(bins, mu, sigma)\n",
    "l = plt.plot(bins, y, 'r--', linewidth=2)\n",
    "\n",
    "#plot\n",
    "plt.xlabel('SPEED')\n",
    "plt.ylabel('Probability')\n",
    "plt.title(r'$\\mathrm{Histogram\\ of\\ SPEED:}\\ \\mu=%.3f,\\ \\sigma=%.3f$' %(mu, sigma))\n",
    "plt.grid(True)\n",
    "\n",
    "plt.show()\n"
   ]
  },
  {
   "cell_type": "code",
   "execution_count": 24,
   "metadata": {},
   "outputs": [
    {
     "data": {
      "text/html": [
       "<div>\n",
       "<style scoped>\n",
       "    .dataframe tbody tr th:only-of-type {\n",
       "        vertical-align: middle;\n",
       "    }\n",
       "\n",
       "    .dataframe tbody tr th {\n",
       "        vertical-align: top;\n",
       "    }\n",
       "\n",
       "    .dataframe thead th {\n",
       "        text-align: right;\n",
       "    }\n",
       "</style>\n",
       "<table border=\"1\" class=\"dataframe\">\n",
       "  <thead>\n",
       "    <tr style=\"text-align: right;\">\n",
       "      <th></th>\n",
       "      <th>LEN</th>\n",
       "      <th>FUNCLASS</th>\n",
       "      <th>UPDATE_TIME</th>\n",
       "      <th>SPEED</th>\n",
       "    </tr>\n",
       "  </thead>\n",
       "  <tbody>\n",
       "    <tr>\n",
       "      <th>0</th>\n",
       "      <td>327.36906</td>\n",
       "      <td>4</td>\n",
       "      <td>00</td>\n",
       "      <td>53.51</td>\n",
       "    </tr>\n",
       "    <tr>\n",
       "      <th>1</th>\n",
       "      <td>327.36906</td>\n",
       "      <td>4</td>\n",
       "      <td>00</td>\n",
       "      <td>56.06</td>\n",
       "    </tr>\n",
       "    <tr>\n",
       "      <th>2</th>\n",
       "      <td>327.36906</td>\n",
       "      <td>4</td>\n",
       "      <td>00</td>\n",
       "      <td>56.06</td>\n",
       "    </tr>\n",
       "    <tr>\n",
       "      <th>3</th>\n",
       "      <td>327.36906</td>\n",
       "      <td>4</td>\n",
       "      <td>00</td>\n",
       "      <td>56.06</td>\n",
       "    </tr>\n",
       "    <tr>\n",
       "      <th>4</th>\n",
       "      <td>327.36906</td>\n",
       "      <td>4</td>\n",
       "      <td>00</td>\n",
       "      <td>49.05</td>\n",
       "    </tr>\n",
       "  </tbody>\n",
       "</table>\n",
       "</div>"
      ],
      "text/plain": [
       "         LEN  FUNCLASS UPDATE_TIME  SPEED\n",
       "0  327.36906         4          00  53.51\n",
       "1  327.36906         4          00  56.06\n",
       "2  327.36906         4          00  56.06\n",
       "3  327.36906         4          00  56.06\n",
       "4  327.36906         4          00  49.05"
      ]
     },
     "execution_count": 24,
     "metadata": {},
     "output_type": "execute_result"
    }
   ],
   "source": [
    "# 每小时的平均时速\n",
    "alist = list(data.UPDATE_TIME)\n",
    "for i in range(len(alist)):\n",
    "    alist[i] = alist[i][-4:-2]\n",
    "data.UPDATE_TIME = alist\n",
    "data.head()"
   ]
  },
  {
   "cell_type": "code",
   "execution_count": 25,
   "metadata": {},
   "outputs": [],
   "source": [
    "# Funclass 和 LEN 关系\n",
    "g_time = data.groupby([\"UPDATE_TIME\"]).mean()"
   ]
  },
  {
   "cell_type": "code",
   "execution_count": 26,
   "metadata": {
    "scrolled": true
   },
   "outputs": [
    {
     "data": {
      "text/html": [
       "<div>\n",
       "<style scoped>\n",
       "    .dataframe tbody tr th:only-of-type {\n",
       "        vertical-align: middle;\n",
       "    }\n",
       "\n",
       "    .dataframe tbody tr th {\n",
       "        vertical-align: top;\n",
       "    }\n",
       "\n",
       "    .dataframe thead th {\n",
       "        text-align: right;\n",
       "    }\n",
       "</style>\n",
       "<table border=\"1\" class=\"dataframe\">\n",
       "  <thead>\n",
       "    <tr style=\"text-align: right;\">\n",
       "      <th></th>\n",
       "      <th>LEN</th>\n",
       "      <th>FUNCLASS</th>\n",
       "      <th>SPEED</th>\n",
       "    </tr>\n",
       "    <tr>\n",
       "      <th>UPDATE_TIME</th>\n",
       "      <th></th>\n",
       "      <th></th>\n",
       "      <th></th>\n",
       "    </tr>\n",
       "  </thead>\n",
       "  <tbody>\n",
       "    <tr>\n",
       "      <th>00</th>\n",
       "      <td>367.106427</td>\n",
       "      <td>4.432530</td>\n",
       "      <td>44.440922</td>\n",
       "    </tr>\n",
       "    <tr>\n",
       "      <th>01</th>\n",
       "      <td>374.733585</td>\n",
       "      <td>4.398591</td>\n",
       "      <td>44.983026</td>\n",
       "    </tr>\n",
       "    <tr>\n",
       "      <th>02</th>\n",
       "      <td>381.424844</td>\n",
       "      <td>4.353527</td>\n",
       "      <td>45.498150</td>\n",
       "    </tr>\n",
       "    <tr>\n",
       "      <th>03</th>\n",
       "      <td>386.583139</td>\n",
       "      <td>4.308200</td>\n",
       "      <td>45.486969</td>\n",
       "    </tr>\n",
       "    <tr>\n",
       "      <th>04</th>\n",
       "      <td>387.870887</td>\n",
       "      <td>4.335902</td>\n",
       "      <td>44.811416</td>\n",
       "    </tr>\n",
       "    <tr>\n",
       "      <th>05</th>\n",
       "      <td>377.049991</td>\n",
       "      <td>4.359620</td>\n",
       "      <td>44.823978</td>\n",
       "    </tr>\n",
       "    <tr>\n",
       "      <th>06</th>\n",
       "      <td>366.416254</td>\n",
       "      <td>4.404086</td>\n",
       "      <td>43.061408</td>\n",
       "    </tr>\n",
       "    <tr>\n",
       "      <th>07</th>\n",
       "      <td>356.226857</td>\n",
       "      <td>4.473745</td>\n",
       "      <td>35.941958</td>\n",
       "    </tr>\n",
       "    <tr>\n",
       "      <th>08</th>\n",
       "      <td>352.090182</td>\n",
       "      <td>4.510356</td>\n",
       "      <td>34.814682</td>\n",
       "    </tr>\n",
       "    <tr>\n",
       "      <th>09</th>\n",
       "      <td>352.446088</td>\n",
       "      <td>4.506759</td>\n",
       "      <td>37.038775</td>\n",
       "    </tr>\n",
       "    <tr>\n",
       "      <th>10</th>\n",
       "      <td>354.496762</td>\n",
       "      <td>4.499813</td>\n",
       "      <td>38.149521</td>\n",
       "    </tr>\n",
       "    <tr>\n",
       "      <th>11</th>\n",
       "      <td>353.558238</td>\n",
       "      <td>4.501480</td>\n",
       "      <td>39.464399</td>\n",
       "    </tr>\n",
       "    <tr>\n",
       "      <th>12</th>\n",
       "      <td>356.896764</td>\n",
       "      <td>4.493092</td>\n",
       "      <td>39.617404</td>\n",
       "    </tr>\n",
       "    <tr>\n",
       "      <th>13</th>\n",
       "      <td>353.098251</td>\n",
       "      <td>4.512574</td>\n",
       "      <td>38.360519</td>\n",
       "    </tr>\n",
       "    <tr>\n",
       "      <th>14</th>\n",
       "      <td>353.599247</td>\n",
       "      <td>4.512816</td>\n",
       "      <td>38.042954</td>\n",
       "    </tr>\n",
       "    <tr>\n",
       "      <th>15</th>\n",
       "      <td>354.361885</td>\n",
       "      <td>4.502934</td>\n",
       "      <td>36.894147</td>\n",
       "    </tr>\n",
       "    <tr>\n",
       "      <th>16</th>\n",
       "      <td>352.753727</td>\n",
       "      <td>4.513664</td>\n",
       "      <td>36.069994</td>\n",
       "    </tr>\n",
       "    <tr>\n",
       "      <th>17</th>\n",
       "      <td>351.118463</td>\n",
       "      <td>4.514336</td>\n",
       "      <td>34.350857</td>\n",
       "    </tr>\n",
       "    <tr>\n",
       "      <th>18</th>\n",
       "      <td>351.568154</td>\n",
       "      <td>4.522370</td>\n",
       "      <td>34.356734</td>\n",
       "    </tr>\n",
       "    <tr>\n",
       "      <th>19</th>\n",
       "      <td>354.128265</td>\n",
       "      <td>4.493062</td>\n",
       "      <td>37.399644</td>\n",
       "    </tr>\n",
       "    <tr>\n",
       "      <th>20</th>\n",
       "      <td>354.797188</td>\n",
       "      <td>4.498147</td>\n",
       "      <td>38.966598</td>\n",
       "    </tr>\n",
       "    <tr>\n",
       "      <th>21</th>\n",
       "      <td>355.661983</td>\n",
       "      <td>4.490719</td>\n",
       "      <td>39.631705</td>\n",
       "    </tr>\n",
       "    <tr>\n",
       "      <th>22</th>\n",
       "      <td>352.394895</td>\n",
       "      <td>4.514004</td>\n",
       "      <td>41.744066</td>\n",
       "    </tr>\n",
       "    <tr>\n",
       "      <th>23</th>\n",
       "      <td>359.001284</td>\n",
       "      <td>4.477815</td>\n",
       "      <td>42.677362</td>\n",
       "    </tr>\n",
       "  </tbody>\n",
       "</table>\n",
       "</div>"
      ],
      "text/plain": [
       "                    LEN  FUNCLASS      SPEED\n",
       "UPDATE_TIME                                 \n",
       "00           367.106427  4.432530  44.440922\n",
       "01           374.733585  4.398591  44.983026\n",
       "02           381.424844  4.353527  45.498150\n",
       "03           386.583139  4.308200  45.486969\n",
       "04           387.870887  4.335902  44.811416\n",
       "05           377.049991  4.359620  44.823978\n",
       "06           366.416254  4.404086  43.061408\n",
       "07           356.226857  4.473745  35.941958\n",
       "08           352.090182  4.510356  34.814682\n",
       "09           352.446088  4.506759  37.038775\n",
       "10           354.496762  4.499813  38.149521\n",
       "11           353.558238  4.501480  39.464399\n",
       "12           356.896764  4.493092  39.617404\n",
       "13           353.098251  4.512574  38.360519\n",
       "14           353.599247  4.512816  38.042954\n",
       "15           354.361885  4.502934  36.894147\n",
       "16           352.753727  4.513664  36.069994\n",
       "17           351.118463  4.514336  34.350857\n",
       "18           351.568154  4.522370  34.356734\n",
       "19           354.128265  4.493062  37.399644\n",
       "20           354.797188  4.498147  38.966598\n",
       "21           355.661983  4.490719  39.631705\n",
       "22           352.394895  4.514004  41.744066\n",
       "23           359.001284  4.477815  42.677362"
      ]
     },
     "execution_count": 26,
     "metadata": {},
     "output_type": "execute_result"
    }
   ],
   "source": [
    "g_time"
   ]
  },
  {
   "cell_type": "code",
   "execution_count": 55,
   "metadata": {},
   "outputs": [],
   "source": [
    "new_index = ['00:00-0:59', '01:00-01:59', '02:00-02:59', '03:00-03:59', '04:00-04:59', '05:00-05:59', '06:00-06:59',\n",
    "             '07:00-07:59', '08:00-08:59', '09:00-09:59', '10:00-10:59', '11:00-11:59', '12:00-12:59', '13:00-13:59',\n",
    "             '14:00-14:59', '15:00-15:59', '16:00-16:59', '17:00-17:59', '18:00-18:59', '19:00-19:59', '20:00-20:59',\n",
    "             '21:00-21:59', '22:00-22:59', '23:00-23:59']"
   ]
  },
  {
   "cell_type": "code",
   "execution_count": 56,
   "metadata": {
    "scrolled": true
   },
   "outputs": [],
   "source": [
    "for each in data.UPDATE_TIME.unique():\n",
    "    indx = int(each)\n",
    "    data.UPDATE_TIME = data.UPDATE_TIME.replace(each, new_index[indx])"
   ]
  },
  {
   "cell_type": "code",
   "execution_count": 27,
   "metadata": {
    "scrolled": true
   },
   "outputs": [
    {
     "data": {
      "text/html": [
       "<div>\n",
       "<style scoped>\n",
       "    .dataframe tbody tr th:only-of-type {\n",
       "        vertical-align: middle;\n",
       "    }\n",
       "\n",
       "    .dataframe tbody tr th {\n",
       "        vertical-align: top;\n",
       "    }\n",
       "\n",
       "    .dataframe thead th {\n",
       "        text-align: right;\n",
       "    }\n",
       "</style>\n",
       "<table border=\"1\" class=\"dataframe\">\n",
       "  <thead>\n",
       "    <tr style=\"text-align: right;\">\n",
       "      <th></th>\n",
       "      <th>LEN</th>\n",
       "      <th>FUNCLASS</th>\n",
       "      <th>SPEED</th>\n",
       "    </tr>\n",
       "    <tr>\n",
       "      <th>UPDATE_TIME</th>\n",
       "      <th></th>\n",
       "      <th></th>\n",
       "      <th></th>\n",
       "    </tr>\n",
       "  </thead>\n",
       "  <tbody>\n",
       "    <tr>\n",
       "      <th>00:00-0:59</th>\n",
       "      <td>367.106427</td>\n",
       "      <td>4.432530</td>\n",
       "      <td>44.440922</td>\n",
       "    </tr>\n",
       "    <tr>\n",
       "      <th>01:00-01:59</th>\n",
       "      <td>374.733585</td>\n",
       "      <td>4.398591</td>\n",
       "      <td>44.983026</td>\n",
       "    </tr>\n",
       "    <tr>\n",
       "      <th>02:00-02:59</th>\n",
       "      <td>381.424844</td>\n",
       "      <td>4.353527</td>\n",
       "      <td>45.498150</td>\n",
       "    </tr>\n",
       "    <tr>\n",
       "      <th>03:00-03:59</th>\n",
       "      <td>386.583139</td>\n",
       "      <td>4.308200</td>\n",
       "      <td>45.486969</td>\n",
       "    </tr>\n",
       "    <tr>\n",
       "      <th>04:00-04:59</th>\n",
       "      <td>387.870887</td>\n",
       "      <td>4.335902</td>\n",
       "      <td>44.811416</td>\n",
       "    </tr>\n",
       "  </tbody>\n",
       "</table>\n",
       "</div>"
      ],
      "text/plain": [
       "                    LEN  FUNCLASS      SPEED\n",
       "UPDATE_TIME                                 \n",
       "00:00-0:59   367.106427  4.432530  44.440922\n",
       "01:00-01:59  374.733585  4.398591  44.983026\n",
       "02:00-02:59  381.424844  4.353527  45.498150\n",
       "03:00-03:59  386.583139  4.308200  45.486969\n",
       "04:00-04:59  387.870887  4.335902  44.811416"
      ]
     },
     "execution_count": 27,
     "metadata": {},
     "output_type": "execute_result"
    }
   ],
   "source": [
    "new_index = ['00:00-0:59', '01:00-01:59', '02:00-02:59', '03:00-03:59', '04:00-04:59', '05:00-05:59', '06:00-06:59',\n",
    "             '07:00-07:59', '08:00-08:59', '09:00-09:59', '10:00-10:59', '11:00-11:59', '12:00-12:59', '13:00-13:59',\n",
    "             '14:00-14:59', '15:00-15:59', '16:00-16:59', '17:00-17:59', '18:00-18:59', '19:00-19:59', '20:00-20:59',\n",
    "             '21:00-21:59', '22:00-22:59', '23:00-23:59']\n",
    "ch_df = g_time.reindex(new_index)\n",
    "ch_df.LEN = list(g_time.LEN)\n",
    "ch_df.FUNCLASS = list(g_time.FUNCLASS)\n",
    "ch_df.SPEED = list(g_time.SPEED)\n",
    "ch_df.head()"
   ]
  },
  {
   "cell_type": "code",
   "execution_count": 70,
   "metadata": {
    "scrolled": true
   },
   "outputs": [
    {
     "data": {
      "text/html": [
       "<div>\n",
       "<style scoped>\n",
       "    .dataframe tbody tr th:only-of-type {\n",
       "        vertical-align: middle;\n",
       "    }\n",
       "\n",
       "    .dataframe tbody tr th {\n",
       "        vertical-align: top;\n",
       "    }\n",
       "\n",
       "    .dataframe thead th {\n",
       "        text-align: right;\n",
       "    }\n",
       "</style>\n",
       "<table border=\"1\" class=\"dataframe\">\n",
       "  <thead>\n",
       "    <tr style=\"text-align: right;\">\n",
       "      <th></th>\n",
       "      <th></th>\n",
       "      <th>LEN</th>\n",
       "      <th>SPEED</th>\n",
       "    </tr>\n",
       "    <tr>\n",
       "      <th>FUNCLASS</th>\n",
       "      <th>UPDATE_TIME</th>\n",
       "      <th></th>\n",
       "      <th></th>\n",
       "    </tr>\n",
       "  </thead>\n",
       "  <tbody>\n",
       "    <tr>\n",
       "      <th rowspan=\"5\" valign=\"top\">2</th>\n",
       "      <th>00:00-0:59</th>\n",
       "      <td>604.503351</td>\n",
       "      <td>36.005323</td>\n",
       "    </tr>\n",
       "    <tr>\n",
       "      <th>01:00-01:59</th>\n",
       "      <td>604.794702</td>\n",
       "      <td>35.987500</td>\n",
       "    </tr>\n",
       "    <tr>\n",
       "      <th>02:00-02:59</th>\n",
       "      <td>605.034423</td>\n",
       "      <td>37.345082</td>\n",
       "    </tr>\n",
       "    <tr>\n",
       "      <th>03:00-03:59</th>\n",
       "      <td>605.081427</td>\n",
       "      <td>34.232167</td>\n",
       "    </tr>\n",
       "    <tr>\n",
       "      <th>04:00-04:59</th>\n",
       "      <td>605.233941</td>\n",
       "      <td>34.499574</td>\n",
       "    </tr>\n",
       "  </tbody>\n",
       "</table>\n",
       "</div>"
      ],
      "text/plain": [
       "                             LEN      SPEED\n",
       "FUNCLASS UPDATE_TIME                       \n",
       "2        00:00-0:59   604.503351  36.005323\n",
       "         01:00-01:59  604.794702  35.987500\n",
       "         02:00-02:59  605.034423  37.345082\n",
       "         03:00-03:59  605.081427  34.232167\n",
       "         04:00-04:59  605.233941  34.499574"
      ]
     },
     "execution_count": 70,
     "metadata": {},
     "output_type": "execute_result"
    }
   ],
   "source": [
    "sp_fun_df = data.groupby(['FUNCLASS','UPDATE_TIME']).mean()\n",
    "sp_fun_df.head()"
   ]
  },
  {
   "cell_type": "code",
   "execution_count": 84,
   "metadata": {
    "scrolled": true
   },
   "outputs": [
    {
     "data": {
      "image/png": "[encoded data removed]",
      "text/plain": [
       "<Figure size 432x288 with 1 Axes>"
      ]
     },
     "metadata": {
      "needs_background": "light"
     },
     "output_type": "display_data"
    }
   ],
   "source": [
    "sp_fun_df['SPEED'].unstack(level=0).plot(kind='box', subplots=False)\n",
    "#plt.title('每种类路段的全天时速分配')\n",
    "plt.title('funclass vs speed')\n",
    "plt.xlabel('funclass')\n",
    "plt.ylabel('speed')\n",
    "plt.show()\n",
    "# 这个图表示 平均时速"
   ]
  },
  {
   "cell_type": "code",
   "execution_count": 85,
   "metadata": {},
   "outputs": [
    {
     "data": {
      "image/png": "[encoded data removed]",
      "text/plain": [
       "<Figure size 432x288 with 1 Axes>"
      ]
     },
     "metadata": {
      "needs_background": "light"
     },
     "output_type": "display_data"
    }
   ],
   "source": [
    "sp_fun_df['LEN'].unstack(level=0).plot(kind='box', subplots=False)\n",
    "#plt.title('每种类路段的全天时速分配')\n",
    "plt.title('funclass vs length')\n",
    "plt.xlabel('funclass')\n",
    "plt.ylabel('length')\n",
    "plt.show()\n",
    "# 这个图表示 长度 和 funclass 关系"
   ]
  },
  {
   "cell_type": "code",
   "execution_count": 29,
   "metadata": {
    "scrolled": false
   },
   "outputs": [
    {
     "data": {
      "image/png": "[encoded data removed]",
      "text/plain": [
       "<Figure size 720x720 with 1 Axes>"
      ]
     },
     "metadata": {
      "needs_background": "light"
     },
     "output_type": "display_data"
    }
   ],
   "source": [
    "x1 = list(ch_df.index)\n",
    "y1 = list(ch_df.SPEED)\n",
    "\n",
    "fig, ax = plt.subplots(figsize=(10, 10)) # 控制图大小\n",
    "fig.subplots_adjust(bottom=0, left=0)\n",
    "ax.plot(x1, y1)\n",
    "plt.xticks(rotation=60)\n",
    "ax.annotate('34.81', fontsize = 15, xy=('08:00-08:59', 35), xytext=('08:00-08:59', 37),\n",
    "            arrowprops=dict(facecolor='black', shrink=0.05))\n",
    "\n",
    "ax.text(0.95, 0.01, 'colored text in axes coords',\n",
    "        verticalalignment='bottom', horizontalalignment='right',\n",
    "        transform=ax.transAxes,\n",
    "        color='green', fontsize=15)\n",
    "\n",
    "ax.set_xlabel('Time')\n",
    "ax.set_ylabel('Speed')\n",
    "plt.title('sadasd')\n",
    "plt.show()\n",
    "\n",
    "#这个图说明了高峰时间和平常时间的平均车速"
   ]
  },
  {
   "cell_type": "code",
   "execution_count": 30,
   "metadata": {
    "scrolled": true
   },
   "outputs": [
    {
     "data": {
      "text/html": [
       "<div>\n",
       "<style scoped>\n",
       "    .dataframe tbody tr th:only-of-type {\n",
       "        vertical-align: middle;\n",
       "    }\n",
       "\n",
       "    .dataframe tbody tr th {\n",
       "        vertical-align: top;\n",
       "    }\n",
       "\n",
       "    .dataframe thead th {\n",
       "        text-align: right;\n",
       "    }\n",
       "</style>\n",
       "<table border=\"1\" class=\"dataframe\">\n",
       "  <thead>\n",
       "    <tr style=\"text-align: right;\">\n",
       "      <th></th>\n",
       "      <th>FUNCLASS</th>\n",
       "      <th>UPDATE_TIME</th>\n",
       "      <th>SPEED</th>\n",
       "    </tr>\n",
       "    <tr>\n",
       "      <th>LEN</th>\n",
       "      <th></th>\n",
       "      <th></th>\n",
       "      <th></th>\n",
       "    </tr>\n",
       "  </thead>\n",
       "  <tbody>\n",
       "    <tr>\n",
       "      <th>1.187399</th>\n",
       "      <td>1409</td>\n",
       "      <td>1409</td>\n",
       "      <td>1409</td>\n",
       "    </tr>\n",
       "    <tr>\n",
       "      <th>2.856190</th>\n",
       "      <td>808</td>\n",
       "      <td>808</td>\n",
       "      <td>808</td>\n",
       "    </tr>\n",
       "    <tr>\n",
       "      <th>3.808256</th>\n",
       "      <td>826</td>\n",
       "      <td>826</td>\n",
       "      <td>826</td>\n",
       "    </tr>\n",
       "    <tr>\n",
       "      <th>3.832922</th>\n",
       "      <td>837</td>\n",
       "      <td>837</td>\n",
       "      <td>837</td>\n",
       "    </tr>\n",
       "    <tr>\n",
       "      <th>4.411950</th>\n",
       "      <td>548</td>\n",
       "      <td>548</td>\n",
       "      <td>548</td>\n",
       "    </tr>\n",
       "  </tbody>\n",
       "</table>\n",
       "</div>"
      ],
      "text/plain": [
       "          FUNCLASS  UPDATE_TIME  SPEED\n",
       "LEN                                   \n",
       "1.187399      1409         1409   1409\n",
       "2.856190       808          808    808\n",
       "3.808256       826          826    826\n",
       "3.832922       837          837    837\n",
       "4.411950       548          548    548"
      ]
     },
     "execution_count": 30,
     "metadata": {},
     "output_type": "execute_result"
    }
   ],
   "source": [
    "g_len = data.groupby(['LEN']).count()\n",
    "g_len.head()"
   ]
  },
  {
   "cell_type": "code",
   "execution_count": 32,
   "metadata": {},
   "outputs": [
    {
     "data": {
      "image/png": "[encoded data removed]",
      "text/plain": [
       "<Figure size 720x720 with 1 Axes>"
      ]
     },
     "metadata": {
      "needs_background": "light"
     },
     "output_type": "display_data"
    }
   ],
   "source": [
    "x1 = list(g_len.index)\n",
    "y1 = list(g_len.SPEED)\n",
    "\n",
    "fig, ax = plt.subplots(figsize=(10, 10)) # 控制图大小\n",
    "fig.subplots_adjust(bottom=0, left=0)\n",
    "ax.plot(x1, y1)\n",
    "plt.xticks(rotation=60)\n",
    "\n",
    "ax.set_xlabel('Length')\n",
    "ax.set_ylabel('Count') # 数量\n",
    "plt.title('sadasd')\n",
    "plt.show()"
   ]
  },
  {
   "cell_type": "code",
   "execution_count": 33,
   "metadata": {},
   "outputs": [
    {
     "data": {
      "text/html": [
       "<div>\n",
       "<style scoped>\n",
       "    .dataframe tbody tr th:only-of-type {\n",
       "        vertical-align: middle;\n",
       "    }\n",
       "\n",
       "    .dataframe tbody tr th {\n",
       "        vertical-align: top;\n",
       "    }\n",
       "\n",
       "    .dataframe thead th {\n",
       "        text-align: right;\n",
       "    }\n",
       "</style>\n",
       "<table border=\"1\" class=\"dataframe\">\n",
       "  <thead>\n",
       "    <tr style=\"text-align: right;\">\n",
       "      <th></th>\n",
       "      <th>LEN</th>\n",
       "      <th>SPEED</th>\n",
       "    </tr>\n",
       "    <tr>\n",
       "      <th>FUNCLASS</th>\n",
       "      <th></th>\n",
       "      <th></th>\n",
       "    </tr>\n",
       "  </thead>\n",
       "  <tbody>\n",
       "    <tr>\n",
       "      <th>2</th>\n",
       "      <td>604.473350</td>\n",
       "      <td>30.904027</td>\n",
       "    </tr>\n",
       "    <tr>\n",
       "      <th>3</th>\n",
       "      <td>422.739277</td>\n",
       "      <td>53.898201</td>\n",
       "    </tr>\n",
       "    <tr>\n",
       "      <th>4</th>\n",
       "      <td>391.449613</td>\n",
       "      <td>40.031394</td>\n",
       "    </tr>\n",
       "    <tr>\n",
       "      <th>5</th>\n",
       "      <td>371.571784</td>\n",
       "      <td>35.308665</td>\n",
       "    </tr>\n",
       "    <tr>\n",
       "      <th>6</th>\n",
       "      <td>200.616861</td>\n",
       "      <td>28.960920</td>\n",
       "    </tr>\n",
       "    <tr>\n",
       "      <th>7</th>\n",
       "      <td>231.473754</td>\n",
       "      <td>24.967931</td>\n",
       "    </tr>\n",
       "  </tbody>\n",
       "</table>\n",
       "</div>"
      ],
      "text/plain": [
       "                 LEN      SPEED\n",
       "FUNCLASS                       \n",
       "2         604.473350  30.904027\n",
       "3         422.739277  53.898201\n",
       "4         391.449613  40.031394\n",
       "5         371.571784  35.308665\n",
       "6         200.616861  28.960920\n",
       "7         231.473754  24.967931"
      ]
     },
     "execution_count": 33,
     "metadata": {},
     "output_type": "execute_result"
    }
   ],
   "source": [
    "g_len2 = data.groupby(['FUNCLASS']).mean()\n",
    "g_len2"
   ]
  },
  {
   "cell_type": "code",
   "execution_count": 36,
   "metadata": {
    "scrolled": true
   },
   "outputs": [
    {
     "data": {
      "text/html": [
       "<div>\n",
       "<style scoped>\n",
       "    .dataframe tbody tr th:only-of-type {\n",
       "        vertical-align: middle;\n",
       "    }\n",
       "\n",
       "    .dataframe tbody tr th {\n",
       "        vertical-align: top;\n",
       "    }\n",
       "\n",
       "    .dataframe thead th {\n",
       "        text-align: right;\n",
       "    }\n",
       "</style>\n",
       "<table border=\"1\" class=\"dataframe\">\n",
       "  <thead>\n",
       "    <tr style=\"text-align: right;\">\n",
       "      <th></th>\n",
       "      <th>LEN</th>\n",
       "      <th>SPEED</th>\n",
       "      <th>time</th>\n",
       "    </tr>\n",
       "    <tr>\n",
       "      <th>FUNCLASS</th>\n",
       "      <th></th>\n",
       "      <th></th>\n",
       "      <th></th>\n",
       "    </tr>\n",
       "  </thead>\n",
       "  <tbody>\n",
       "    <tr>\n",
       "      <th>2</th>\n",
       "      <td>604.473350</td>\n",
       "      <td>30.904027</td>\n",
       "      <td>70.414902</td>\n",
       "    </tr>\n",
       "    <tr>\n",
       "      <th>3</th>\n",
       "      <td>422.739277</td>\n",
       "      <td>53.898201</td>\n",
       "      <td>28.235848</td>\n",
       "    </tr>\n",
       "    <tr>\n",
       "      <th>4</th>\n",
       "      <td>391.449613</td>\n",
       "      <td>40.031394</td>\n",
       "      <td>35.202837</td>\n",
       "    </tr>\n",
       "    <tr>\n",
       "      <th>5</th>\n",
       "      <td>371.571784</td>\n",
       "      <td>35.308665</td>\n",
       "      <td>37.884707</td>\n",
       "    </tr>\n",
       "    <tr>\n",
       "      <th>6</th>\n",
       "      <td>200.616861</td>\n",
       "      <td>28.960920</td>\n",
       "      <td>24.937768</td>\n",
       "    </tr>\n",
       "  </tbody>\n",
       "</table>\n",
       "</div>"
      ],
      "text/plain": [
       "                 LEN      SPEED       time\n",
       "FUNCLASS                                  \n",
       "2         604.473350  30.904027  70.414902\n",
       "3         422.739277  53.898201  28.235848\n",
       "4         391.449613  40.031394  35.202837\n",
       "5         371.571784  35.308665  37.884707\n",
       "6         200.616861  28.960920  24.937768"
      ]
     },
     "execution_count": 36,
     "metadata": {},
     "output_type": "execute_result"
    }
   ],
   "source": [
    "g_len2['time'] = g_len2.LEN/g_len2.SPEED/1000*3600\n",
    "g_len2.head()"
   ]
  },
  {
   "cell_type": "code",
   "execution_count": 37,
   "metadata": {},
   "outputs": [
    {
     "data": {
      "image/png": "[encoded data removed]",
      "text/plain": [
       "<Figure size 432x288 with 1 Axes>"
      ]
     },
     "metadata": {
      "needs_background": "light"
     },
     "output_type": "display_data"
    }
   ],
   "source": [
    "plt.bar(list(g_len2.index), list(g_len2.time)) #时间\n",
    "plt.title('12312as')\n",
    "plt.xlabel('FUNC')\n",
    "plt.ylabel('Time')\n",
    "plt.show() ## 通过每条路花费的平均时间"
   ]
  },
  {
   "cell_type": "code",
   "execution_count": null,
   "metadata": {},
   "outputs": [],
   "source": []
  }
 ],
 "metadata": {
  "kernelspec": {
   "display_name": "Python 3",
   "language": "python",
   "name": "python3"
  },
  "language_info": {
   "codemirror_mode": {
    "name": "ipython",
    "version": 3
   },
   "file_extension": ".py",
   "mimetype": "text/x-python",
   "name": "python",
   "nbconvert_exporter": "python",
   "pygments_lexer": "ipython3",
   "version": "3.7.1"
  }
 },
 "nbformat": 4,
 "nbformat_minor": 2
}
